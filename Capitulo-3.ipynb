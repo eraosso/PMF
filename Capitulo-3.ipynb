{
 "cells": [
  {
   "cell_type": "code",
   "execution_count": 1,
   "id": "9ebaaea8",
   "metadata": {},
   "outputs": [],
   "source": [
    "import xlrd\n",
    "import pandas as pd\n",
    "import numpy as np\n",
    "import os\n",
    "from pathlib import Path\n",
    "import statistics as st \n",
    "import matplotlib.pyplot as plt"
   ]
  },
  {
   "cell_type": "code",
   "execution_count": 2,
   "id": "b6a67cf6",
   "metadata": {},
   "outputs": [],
   "source": [
    "this_dir = Path().resolve()\n",
    "chapter_dir = this_dir / \"Planilhas_Livro_Mercado_Financeiro/Cap3\""
   ]
  },
  {
   "cell_type": "code",
   "execution_count": 3,
   "id": "7e991316",
   "metadata": {},
   "outputs": [
    {
     "data": {
      "application/vnd.microsoft.datawrangler.viewer.v0+json": {
       "columns": [
        {
         "name": "index",
         "rawType": "int64",
         "type": "integer"
        },
        {
         "name": "0",
         "rawType": "int64",
         "type": "integer"
        },
        {
         "name": "1",
         "rawType": "int64",
         "type": "integer"
        }
       ],
       "ref": "da065d73-c4db-4a5a-9052-3b8981caed43",
       "rows": [
        [
         "0",
         "1",
         "10"
        ],
        [
         "1",
         "2",
         "-4"
        ],
        [
         "2",
         "3",
         "2"
        ],
        [
         "3",
         "4",
         "3"
        ],
        [
         "4",
         "5",
         "11"
        ]
       ],
       "shape": {
        "columns": 2,
        "rows": 5
       }
      },
      "text/html": [
       "<div>\n",
       "<style scoped>\n",
       "    .dataframe tbody tr th:only-of-type {\n",
       "        vertical-align: middle;\n",
       "    }\n",
       "\n",
       "    .dataframe tbody tr th {\n",
       "        vertical-align: top;\n",
       "    }\n",
       "\n",
       "    .dataframe thead th {\n",
       "        text-align: right;\n",
       "    }\n",
       "</style>\n",
       "<table border=\"1\" class=\"dataframe\">\n",
       "  <thead>\n",
       "    <tr style=\"text-align: right;\">\n",
       "      <th></th>\n",
       "      <th>0</th>\n",
       "      <th>1</th>\n",
       "    </tr>\n",
       "  </thead>\n",
       "  <tbody>\n",
       "    <tr>\n",
       "      <th>0</th>\n",
       "      <td>1</td>\n",
       "      <td>10</td>\n",
       "    </tr>\n",
       "    <tr>\n",
       "      <th>1</th>\n",
       "      <td>2</td>\n",
       "      <td>-4</td>\n",
       "    </tr>\n",
       "    <tr>\n",
       "      <th>2</th>\n",
       "      <td>3</td>\n",
       "      <td>2</td>\n",
       "    </tr>\n",
       "    <tr>\n",
       "      <th>3</th>\n",
       "      <td>4</td>\n",
       "      <td>3</td>\n",
       "    </tr>\n",
       "    <tr>\n",
       "      <th>4</th>\n",
       "      <td>5</td>\n",
       "      <td>11</td>\n",
       "    </tr>\n",
       "  </tbody>\n",
       "</table>\n",
       "</div>"
      ],
      "text/plain": [
       "   0   1\n",
       "0  1  10\n",
       "1  2  -4\n",
       "2  3   2\n",
       "3  4   3\n",
       "4  5  11"
      ]
     },
     "execution_count": 3,
     "metadata": {},
     "output_type": "execute_result"
    }
   ],
   "source": [
    "teste = pd.read_excel(chapter_dir / \"Teste.xlsx\", header=None)\n",
    "teste.head()"
   ]
  },
  {
   "cell_type": "code",
   "execution_count": 8,
   "id": "217f8fd3",
   "metadata": {},
   "outputs": [
    {
     "data": {
      "application/vnd.microsoft.datawrangler.viewer.v0+json": {
       "columns": [
        {
         "name": "index",
         "rawType": "int64",
         "type": "integer"
        },
        {
         "name": "0",
         "rawType": "int64",
         "type": "integer"
        },
        {
         "name": "1",
         "rawType": "int64",
         "type": "integer"
        }
       ],
       "ref": "00c1aa6e-48d7-405b-9b68-5b0be1f60c72",
       "rows": [
        [
         "0",
         "1",
         "10"
        ],
        [
         "1",
         "2",
         "9"
        ],
        [
         "2",
         "3",
         "8"
        ],
        [
         "3",
         "4",
         "9"
        ],
        [
         "4",
         "5",
         "9"
        ]
       ],
       "shape": {
        "columns": 2,
        "rows": 5
       }
      },
      "text/html": [
       "<div>\n",
       "<style scoped>\n",
       "    .dataframe tbody tr th:only-of-type {\n",
       "        vertical-align: middle;\n",
       "    }\n",
       "\n",
       "    .dataframe tbody tr th {\n",
       "        vertical-align: top;\n",
       "    }\n",
       "\n",
       "    .dataframe thead th {\n",
       "        text-align: right;\n",
       "    }\n",
       "</style>\n",
       "<table border=\"1\" class=\"dataframe\">\n",
       "  <thead>\n",
       "    <tr style=\"text-align: right;\">\n",
       "      <th></th>\n",
       "      <th>0</th>\n",
       "      <th>1</th>\n",
       "    </tr>\n",
       "  </thead>\n",
       "  <tbody>\n",
       "    <tr>\n",
       "      <th>0</th>\n",
       "      <td>1</td>\n",
       "      <td>10</td>\n",
       "    </tr>\n",
       "    <tr>\n",
       "      <th>1</th>\n",
       "      <td>2</td>\n",
       "      <td>9</td>\n",
       "    </tr>\n",
       "    <tr>\n",
       "      <th>2</th>\n",
       "      <td>3</td>\n",
       "      <td>8</td>\n",
       "    </tr>\n",
       "    <tr>\n",
       "      <th>3</th>\n",
       "      <td>4</td>\n",
       "      <td>9</td>\n",
       "    </tr>\n",
       "    <tr>\n",
       "      <th>4</th>\n",
       "      <td>5</td>\n",
       "      <td>9</td>\n",
       "    </tr>\n",
       "  </tbody>\n",
       "</table>\n",
       "</div>"
      ],
      "text/plain": [
       "   0   1\n",
       "0  1  10\n",
       "1  2   9\n",
       "2  3   8\n",
       "3  4   9\n",
       "4  5   9"
      ]
     },
     "execution_count": 8,
     "metadata": {},
     "output_type": "execute_result"
    }
   ],
   "source": [
    "estat_dados = pd.read_excel(chapter_dir / \"EstatDad.xlsx\", header=None)\n",
    "estat_dados.head()"
   ]
  },
  {
   "cell_type": "code",
   "execution_count": 10,
   "id": "6da4c648",
   "metadata": {},
   "outputs": [],
   "source": [
    "media = st.mean(estat_dados[1])\n",
    "mediana = st.median(estat_dados[1])\n",
    "desvioP = st.pstdev(estat_dados[1])\n",
    "desvioA = st.stdev(estat_dados[1])"
   ]
  },
  {
   "cell_type": "code",
   "execution_count": 15,
   "id": "7ebc00e1",
   "metadata": {},
   "outputs": [
    {
     "name": "stdout",
     "output_type": "stream",
     "text": [
      "********** RESUMO DAS ESTATÍTICAS **********\n",
      "MÉDIA MEDIANA DESV.P DESV.A\n",
      " 9.35  9.00   1.74   1.79\n"
     ]
    }
   ],
   "source": [
    "print(f\"********** RESUMO DAS ESTATÍTICAS **********\")\n",
    "print(f\"MÉDIA MEDIANA DESV.P DESV.A\")\n",
    "print(f\"{media:5.2f} {mediana:5.2f} {desvioP:6.2f} {desvioA:6.2f}\")"
   ]
  },
  {
   "cell_type": "code",
   "execution_count": 22,
   "id": "ac4c7359",
   "metadata": {},
   "outputs": [
    {
     "data": {
      "image/png": "[encoded data removed]",
      "text/plain": [
       "<Figure size 800x600 with 1 Axes>"
      ]
     },
     "metadata": {},
     "output_type": "display_data"
    }
   ],
   "source": [
    "n = 3\n",
    "plt.figure(figsize=(8,6))\n",
    "plt.hist(estat_dados[1], bins=n, color=\"gray\")\n",
    "plt.xlabel(\"Classes\")\n",
    "plt.ylabel(\"Frequência\")\n",
    "plt.title(\"Histograma com {n} classes\")\n",
    "plt.show()"
   ]
  },
  {
   "cell_type": "code",
   "execution_count": 23,
   "id": "46b91ba1",
   "metadata": {},
   "outputs": [
    {
     "data": {
      "image/png": "[encoded data removed]",
      "text/plain": [
       "<Figure size 800x600 with 1 Axes>"
      ]
     },
     "metadata": {},
     "output_type": "display_data"
    }
   ],
   "source": [
    "n = 5\n",
    "plt.figure(figsize=(8,6))\n",
    "plt.hist(estat_dados[1], bins=n, color=\"gray\")\n",
    "plt.xlabel(\"Classes\")\n",
    "plt.ylabel(\"Frequência\")\n",
    "plt.title(\"Histograma com {n} classes\")\n",
    "plt.show()"
   ]
  },
  {
   "cell_type": "code",
   "execution_count": 24,
   "id": "d5c8334e",
   "metadata": {},
   "outputs": [
    {
     "data": {
      "image/png": "[encoded data removed]",
      "text/plain": [
       "<Figure size 800x600 with 1 Axes>"
      ]
     },
     "metadata": {},
     "output_type": "display_data"
    }
   ],
   "source": [
    "n = 7\n",
    "plt.figure(figsize=(8,6))\n",
    "plt.hist(estat_dados[1], bins=n, color=\"gray\")\n",
    "plt.xlabel(\"Classes\")\n",
    "plt.ylabel(\"Frequência\")\n",
    "plt.title(\"Histograma com {n} classes\")\n",
    "plt.show()"
   ]
  },
  {
   "cell_type": "code",
   "execution_count": 27,
   "id": "8cd15b63",
   "metadata": {},
   "outputs": [
    {
     "data": {
      "text/plain": [
       "{'whiskers': [<matplotlib.lines.Line2D at 0x1145b5450>,\n",
       "  <matplotlib.lines.Line2D at 0x1145b5590>],\n",
       " 'caps': [<matplotlib.lines.Line2D at 0x1145b56d0>,\n",
       "  <matplotlib.lines.Line2D at 0x1145b5810>],\n",
       " 'boxes': [<matplotlib.lines.Line2D at 0x1145b5310>],\n",
       " 'medians': [<matplotlib.lines.Line2D at 0x1145b5950>],\n",
       " 'fliers': [<matplotlib.lines.Line2D at 0x1145b5a90>],\n",
       " 'means': []}"
      ]
     },
     "execution_count": 27,
     "metadata": {},
     "output_type": "execute_result"
    },
    {
     "data": {
      "image/png": "[encoded data removed]",
      "text/plain": [
       "<Figure size 640x480 with 1 Axes>"
      ]
     },
     "metadata": {},
     "output_type": "display_data"
    }
   ],
   "source": [
    "plt.figure()\n",
    "plt.boxplot(estat_dados[1], vert=True)"
   ]
  },
  {
   "cell_type": "code",
   "execution_count": null,
   "id": "5ef02e3a",
   "metadata": {},
   "outputs": [],
   "source": []
  }
 ],
 "metadata": {
  "kernelspec": {
   "display_name": "pmf",
   "language": "python",
   "name": "python3"
  },
  "language_info": {
   "codemirror_mode": {
    "name": "ipython",
    "version": 3
   },
   "file_extension": ".py",
   "mimetype": "text/x-python",
   "name": "python",
   "nbconvert_exporter": "python",
   "pygments_lexer": "ipython3",
   "version": "3.13.4"
  }
 },
 "nbformat": 4,
 "nbformat_minor": 5
}
